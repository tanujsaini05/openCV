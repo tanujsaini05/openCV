{
 "cells": [
  {
   "cell_type": "code",
   "execution_count": 3,
   "metadata": {},
   "outputs": [
    {
     "name": "stdout",
     "output_type": "stream",
     "text": [
      "Requirement already satisfied: pip in d:\\tanuj\\gdsc\\genai\\venv\\lib\\site-packages (23.3.1)\n",
      "Note: you may need to restart the kernel to use updated packages.\n"
     ]
    },
    {
     "name": "stderr",
     "output_type": "stream",
     "text": [
      "ERROR: Could not find a version that satisfies the requirement install (from versions: none)\n",
      "ERROR: No matching distribution found for install\n"
     ]
    }
   ],
   "source": [
    "#pip install opencv-python"
   ]
  },
  {
   "cell_type": "code",
   "execution_count": 5,
   "metadata": {},
   "outputs": [
    {
     "name": "stdout",
     "output_type": "stream",
     "text": [
      "Collecting opencv-python\n",
      "  Downloading opencv_python-4.10.0.84-cp37-abi3-win_amd64.whl.metadata (20 kB)\n",
      "Requirement already satisfied: numpy>=1.17.0 in d:\\tanuj\\gdsc\\genai\\venv\\lib\\site-packages (from opencv-python) (1.26.3)\n",
      "Downloading opencv_python-4.10.0.84-cp37-abi3-win_amd64.whl (38.8 MB)\n",
      "   ---------------------------------------- 0.0/38.8 MB ? eta -:--:--\n",
      "   ---------------------------------------- 0.1/38.8 MB 3.6 MB/s eta 0:00:11\n",
      "   ---------------------------------------- 0.4/38.8 MB 3.7 MB/s eta 0:00:11\n",
      "    --------------------------------------- 0.7/38.8 MB 4.7 MB/s eta 0:00:09\n",
      "   - -------------------------------------- 1.1/38.8 MB 6.4 MB/s eta 0:00:06\n",
      "   - -------------------------------------- 1.7/38.8 MB 7.8 MB/s eta 0:00:05\n",
      "   -- ------------------------------------- 2.7/38.8 MB 9.2 MB/s eta 0:00:04\n",
      "   --- ------------------------------------ 3.3/38.8 MB 9.6 MB/s eta 0:00:04\n",
      "   ---- ----------------------------------- 4.1/38.8 MB 10.1 MB/s eta 0:00:04\n",
      "   ---- ----------------------------------- 4.8/38.8 MB 10.9 MB/s eta 0:00:04\n",
      "   ----- ---------------------------------- 5.4/38.8 MB 10.8 MB/s eta 0:00:04\n",
      "   ------ --------------------------------- 6.4/38.8 MB 11.7 MB/s eta 0:00:03\n",
      "   ------- -------------------------------- 7.7/38.8 MB 12.6 MB/s eta 0:00:03\n",
      "   --------- ------------------------------ 8.8/38.8 MB 13.1 MB/s eta 0:00:03\n",
      "   ---------- ----------------------------- 9.8/38.8 MB 13.6 MB/s eta 0:00:03\n",
      "   ----------- ---------------------------- 11.2/38.8 MB 16.0 MB/s eta 0:00:02\n",
      "   ------------- -------------------------- 12.9/38.8 MB 18.2 MB/s eta 0:00:02\n",
      "   -------------- ------------------------- 13.9/38.8 MB 19.8 MB/s eta 0:00:02\n",
      "   --------------- ------------------------ 15.0/38.8 MB 20.5 MB/s eta 0:00:02\n",
      "   ---------------- ----------------------- 16.2/38.8 MB 21.8 MB/s eta 0:00:02\n",
      "   ----------------- ---------------------- 17.3/38.8 MB 22.6 MB/s eta 0:00:01\n",
      "   ------------------- -------------------- 18.5/38.8 MB 21.8 MB/s eta 0:00:01\n",
      "   -------------------- ------------------- 20.2/38.8 MB 25.1 MB/s eta 0:00:01\n",
      "   --------------------- ------------------ 20.5/38.8 MB 23.4 MB/s eta 0:00:01\n",
      "   --------------------- ------------------ 21.2/38.8 MB 21.9 MB/s eta 0:00:01\n",
      "   ----------------------- ---------------- 22.9/38.8 MB 22.6 MB/s eta 0:00:01\n",
      "   ------------------------ --------------- 24.0/38.8 MB 22.6 MB/s eta 0:00:01\n",
      "   -------------------------- ------------- 25.8/38.8 MB 23.4 MB/s eta 0:00:01\n",
      "   ---------------------------- ----------- 27.5/38.8 MB 23.4 MB/s eta 0:00:01\n",
      "   ----------------------------- ---------- 29.0/38.8 MB 25.2 MB/s eta 0:00:01\n",
      "   ------------------------------- -------- 30.6/38.8 MB 26.2 MB/s eta 0:00:01\n",
      "   --------------------------------- ------ 32.1/38.8 MB 29.7 MB/s eta 0:00:01\n",
      "   ---------------------------------- ----- 33.5/38.8 MB 31.2 MB/s eta 0:00:01\n",
      "   ----------------------------------- ---- 34.9/38.8 MB 31.1 MB/s eta 0:00:01\n",
      "   ------------------------------------- -- 36.3/38.8 MB 31.2 MB/s eta 0:00:01\n",
      "   -------------------------------------- - 37.2/38.8 MB 29.8 MB/s eta 0:00:01\n",
      "   ---------------------------------------  38.6/38.8 MB 31.1 MB/s eta 0:00:01\n",
      "   ---------------------------------------  38.8/38.8 MB 29.7 MB/s eta 0:00:01\n",
      "   ---------------------------------------  38.8/38.8 MB 29.7 MB/s eta 0:00:01\n",
      "   ---------------------------------------  38.8/38.8 MB 29.7 MB/s eta 0:00:01\n",
      "   ---------------------------------------- 38.8/38.8 MB 19.8 MB/s eta 0:00:00\n",
      "Installing collected packages: opencv-python\n",
      "Successfully installed opencv-python-4.10.0.84\n"
     ]
    }
   ],
   "source": [
    "!pip install opencv-python"
   ]
  },
  {
   "cell_type": "code",
   "execution_count": 2,
   "metadata": {},
   "outputs": [
    {
     "name": "stdout",
     "output_type": "stream",
     "text": [
      "Collecting Pillow\n",
      "  Downloading pillow-10.4.0-cp39-cp39-win_amd64.whl.metadata (9.3 kB)\n",
      "Downloading pillow-10.4.0-cp39-cp39-win_amd64.whl (2.6 MB)\n",
      "   ---------------------------------------- 0.0/2.6 MB ? eta -:--:--\n",
      "   - -------------------------------------- 0.1/2.6 MB 3.3 MB/s eta 0:00:01\n",
      "   ---- ----------------------------------- 0.3/2.6 MB 2.8 MB/s eta 0:00:01\n",
      "   ---- ----------------------------------- 0.3/2.6 MB 2.8 MB/s eta 0:00:01\n",
      "   ---- ----------------------------------- 0.3/2.6 MB 2.8 MB/s eta 0:00:01\n",
      "   ----- ---------------------------------- 0.3/2.6 MB 1.2 MB/s eta 0:00:02\n",
      "   -------- ------------------------------- 0.5/2.6 MB 1.8 MB/s eta 0:00:02\n",
      "   -------- ------------------------------- 0.5/2.6 MB 1.8 MB/s eta 0:00:02\n",
      "   -------- ------------------------------- 0.5/2.6 MB 1.8 MB/s eta 0:00:02\n",
      "   -------- ------------------------------- 0.5/2.6 MB 1.8 MB/s eta 0:00:02\n",
      "   -------- ------------------------------- 0.5/2.6 MB 1.8 MB/s eta 0:00:02\n",
      "   -------- ------------------------------- 0.5/2.6 MB 1.8 MB/s eta 0:00:02\n",
      "   -------- ------------------------------- 0.5/2.6 MB 778.3 kB/s eta 0:00:03\n",
      "   -------- ------------------------------- 0.5/2.6 MB 778.3 kB/s eta 0:00:03\n",
      "   ------------ --------------------------- 0.8/2.6 MB 1.0 MB/s eta 0:00:02\n",
      "   ---------------- ----------------------- 1.0/2.6 MB 1.2 MB/s eta 0:00:02\n",
      "   ------------------ --------------------- 1.2/2.6 MB 1.3 MB/s eta 0:00:02\n",
      "   ------------------ --------------------- 1.2/2.6 MB 1.3 MB/s eta 0:00:02\n",
      "   ------------------ --------------------- 1.2/2.6 MB 1.3 MB/s eta 0:00:02\n",
      "   ------------------ --------------------- 1.2/2.6 MB 1.3 MB/s eta 0:00:02\n",
      "   ------------------ --------------------- 1.2/2.6 MB 1.3 MB/s eta 0:00:02\n",
      "   --------------------- ------------------ 1.4/2.6 MB 1.1 MB/s eta 0:00:02\n",
      "   --------------------- ------------------ 1.4/2.6 MB 1.1 MB/s eta 0:00:02\n",
      "   --------------------- ------------------ 1.4/2.6 MB 1.1 MB/s eta 0:00:02\n",
      "   --------------------- ------------------ 1.4/2.6 MB 1.0 MB/s eta 0:00:02\n",
      "   ---------------------- ----------------- 1.4/2.6 MB 997.8 kB/s eta 0:00:02\n",
      "   ---------------------- ----------------- 1.4/2.6 MB 997.8 kB/s eta 0:00:02\n",
      "   ---------------------- ----------------- 1.4/2.6 MB 997.8 kB/s eta 0:00:02\n",
      "   ---------------------- ----------------- 1.4/2.6 MB 997.8 kB/s eta 0:00:02\n",
      "   ---------------------- ----------------- 1.4/2.6 MB 997.8 kB/s eta 0:00:02\n",
      "   ---------------------- ----------------- 1.4/2.6 MB 843.7 kB/s eta 0:00:02\n",
      "   ------------------------- -------------- 1.6/2.6 MB 947.7 kB/s eta 0:00:01\n",
      "   -------------------------- ------------- 1.7/2.6 MB 937.2 kB/s eta 0:00:01\n",
      "   -------------------------- ------------- 1.7/2.6 MB 937.2 kB/s eta 0:00:01\n",
      "   -------------------------- ------------- 1.7/2.6 MB 937.2 kB/s eta 0:00:01\n",
      "   -------------------------- ------------- 1.7/2.6 MB 937.2 kB/s eta 0:00:01\n",
      "   -------------------------- ------------- 1.7/2.6 MB 937.2 kB/s eta 0:00:01\n",
      "   -------------------------- ------------- 1.7/2.6 MB 937.2 kB/s eta 0:00:01\n",
      "   -------------------------- ------------- 1.7/2.6 MB 937.2 kB/s eta 0:00:01\n",
      "   -------------------------- ------------- 1.7/2.6 MB 937.2 kB/s eta 0:00:01\n",
      "   -------------------------- ------------- 1.7/2.6 MB 937.2 kB/s eta 0:00:01\n",
      "   -------------------------- ------------- 1.7/2.6 MB 937.2 kB/s eta 0:00:01\n",
      "   -------------------------- ------------- 1.7/2.6 MB 745.2 kB/s eta 0:00:02\n",
      "   ---------------------------- ----------- 1.8/2.6 MB 782.3 kB/s eta 0:00:01\n",
      "   ---------------------------- ----------- 1.8/2.6 MB 782.3 kB/s eta 0:00:01\n",
      "   ----------------------------- ---------- 1.9/2.6 MB 759.3 kB/s eta 0:00:01\n",
      "   ------------------------------ --------- 1.9/2.6 MB 779.1 kB/s eta 0:00:01\n",
      "   -------------------------------- ------- 2.0/2.6 MB 795.4 kB/s eta 0:00:01\n",
      "   --------------------------------- ------ 2.1/2.6 MB 804.6 kB/s eta 0:00:01\n",
      "   ----------------------------------- ---- 2.3/2.6 MB 849.8 kB/s eta 0:00:01\n",
      "   -------------------------------------- - 2.5/2.6 MB 898.9 kB/s eta 0:00:01\n",
      "   ---------------------------------------  2.5/2.6 MB 918.5 kB/s eta 0:00:01\n",
      "   ---------------------------------------- 2.6/2.6 MB 910.0 kB/s eta 0:00:00\n",
      "Installing collected packages: Pillow\n",
      "Successfully installed Pillow-10.4.0\n"
     ]
    }
   ],
   "source": [
    "!pip install Pillow"
   ]
  },
  {
   "cell_type": "code",
   "execution_count": 2,
   "metadata": {},
   "outputs": [],
   "source": [
    "import cv2"
   ]
  },
  {
   "cell_type": "code",
   "execution_count": null,
   "metadata": {},
   "outputs": [],
   "source": []
  },
  {
   "cell_type": "code",
   "execution_count": 3,
   "metadata": {},
   "outputs": [],
   "source": [
    "from PIL import Image\n",
    "import numpy as np"
   ]
  },
  {
   "cell_type": "code",
   "execution_count": 4,
   "metadata": {},
   "outputs": [],
   "source": [
    "img= Image.open('Screenshot 2024-07-28 230420.png')"
   ]
  },
  {
   "cell_type": "code",
   "execution_count": 5,
   "metadata": {},
   "outputs": [],
   "source": [
    "img.show()"
   ]
  },
  {
   "cell_type": "code",
   "execution_count": 6,
   "metadata": {},
   "outputs": [],
   "source": [
    "image = cv2.imread(\"Screenshot 2024-07-28 230420.png\")"
   ]
  },
  {
   "cell_type": "code",
   "execution_count": 7,
   "metadata": {},
   "outputs": [],
   "source": [
    "height, width = image.shape[:2]"
   ]
  },
  {
   "cell_type": "code",
   "execution_count": 8,
   "metadata": {},
   "outputs": [],
   "source": [
    "quarter_height, quarter_width = height / 4, width / 4\n",
    "\n",
    "T = np.float32([[1, 0, quarter_width], [0, 1, quarter_height]]) "
   ]
  },
  {
   "cell_type": "code",
   "execution_count": 11,
   "metadata": {},
   "outputs": [],
   "source": [
    "img_translaton = cv2.warpAffine(image,T,(width,height))\n",
    "_ = Image.open('Screenshot 2024-07-28 230420.png')\n",
    "_.show()\n",
    "img_translation_rgb = cv2.cvtColor(img_translaton, cv2.COLOR_BGR2RGB)\n",
    "__ = Image.fromarray(img_translation_rgb)\n",
    "__.show()"
   ]
  },
  {
   "cell_type": "code",
   "execution_count": 12,
   "metadata": {},
   "outputs": [
    {
     "ename": "",
     "evalue": "",
     "output_type": "error",
     "traceback": [
      "\u001b[1;31mThe Kernel crashed while executing code in the current cell or a previous cell. \n",
      "\u001b[1;31mPlease review the code in the cell(s) to identify a possible cause of the failure. \n",
      "\u001b[1;31mClick <a href='https://aka.ms/vscodeJupyterKernelCrash'>here</a> for more info. \n",
      "\u001b[1;31mView Jupyter <a href='command:jupyter.viewOutput'>log</a> for further details."
     ]
    }
   ],
   "source": [
    "img= cv2.imread(\"Screenshot 2024-07-28 230420.png\")\n",
    "cv2.imshow('😁😁😁😁',img)"
   ]
  },
  {
   "cell_type": "code",
   "execution_count": null,
   "metadata": {},
   "outputs": [],
   "source": []
  }
 ],
 "metadata": {
  "kernelspec": {
   "display_name": "Python 3",
   "language": "python",
   "name": "python3"
  },
  "language_info": {
   "codemirror_mode": {
    "name": "ipython",
    "version": 3
   },
   "file_extension": ".py",
   "mimetype": "text/x-python",
   "name": "python",
   "nbconvert_exporter": "python",
   "pygments_lexer": "ipython3",
   "version": "3.9.0"
  }
 },
 "nbformat": 4,
 "nbformat_minor": 2
}
