{
 "cells": [
  {
   "cell_type": "code",
   "execution_count": 2,
   "metadata": {},
   "outputs": [],
   "source": [
    "import cv2"
   ]
  },
  {
   "cell_type": "code",
   "execution_count": 32,
   "metadata": {},
   "outputs": [],
   "source": [
    "img = cv2.imread(\"Screenshot 2024-07-28 230420.png\")"
   ]
  },
  {
   "cell_type": "code",
   "execution_count": 6,
   "metadata": {},
   "outputs": [],
   "source": [
    "cv2.imshow('Sitaramn', img)\n",
    "cv2.waitKey(0)\n",
    "cv2.destroyAllWindows()"
   ]
  },
  {
   "cell_type": "markdown",
   "metadata": {},
   "source": [
    "## Drawing a line"
   ]
  },
  {
   "cell_type": "code",
   "execution_count": 4,
   "metadata": {},
   "outputs": [],
   "source": [
    "start_point = (0,250)\n",
    "end_point = (250,0)  # change coordinate and practice\n",
    "color = (0,0,0)      # change color like(0,250,0)Green , (0,0,0)Black\n",
    "thickness = 9\n",
    "lined_img = cv2.line(img,start_point,end_point,color,thickness)\n",
    "cv2.imshow(\"Lined_image\",lined_img)\n",
    "cv2.waitKey(0)\n",
    "cv2.destroyAllWindows()"
   ]
  },
  {
   "cell_type": "markdown",
   "metadata": {},
   "source": [
    "## Drawing a Arrow Segment"
   ]
  },
  {
   "cell_type": "code",
   "execution_count": 7,
   "metadata": {},
   "outputs": [],
   "source": [
    "start_point = (0,0)\n",
    "end_point = (100,100)\n",
    "color = (0,250,0)\n",
    "thickness = 9\n",
    "image = cv2.arrowedLine(img,start_point,end_point,color,thickness)\n",
    "cv2.imshow(\"Image\", image)\n",
    "cv2.waitKey(0)\n",
    "cv2.destroyAllWindows()"
   ]
  },
  {
   "cell_type": "markdown",
   "metadata": {},
   "source": [
    "## Drawing an Ellipse"
   ]
  },
  {
   "cell_type": "code",
   "execution_count": 10,
   "metadata": {},
   "outputs": [],
   "source": [
    "centre_coor = (120,120)\n",
    "axeslength = (50,100)\n",
    "angle = 30\n",
    "startangle = 0\n",
    "endangle = 360\n",
    "color = (0,0,0)\n",
    "thickness = 5\n",
    "image = cv2.ellipse(img,centre_coor,axeslength,angle,startangle,endangle,color,thickness)\n",
    "cv2.imshow(\"Ellipse Image\",image)\n",
    "cv2.waitKey(0)\n",
    "cv2.destroyAllWindows()"
   ]
  },
  {
   "cell_type": "markdown",
   "metadata": {},
   "source": [
    "## Drawing a Circle"
   ]
  },
  {
   "cell_type": "code",
   "execution_count": 33,
   "metadata": {},
   "outputs": [],
   "source": [
    "centre_coor = (110,110)\n",
    "radius = 20\n",
    "color = (250,0,0)\n",
    "thickness = 2\n",
    "image = cv2.circle(img,centre_coor,radius,color,thickness)\n",
    "cv2.imshow('Cricleed_Image',image)\n",
    "cv2.waitKey(0)\n",
    "cv2.destroyAllWindows()"
   ]
  },
  {
   "cell_type": "markdown",
   "metadata": {},
   "source": [
    "## Drawing a text"
   ]
  },
  {
   "cell_type": "code",
   "execution_count": 36,
   "metadata": {},
   "outputs": [],
   "source": [
    "font=cv2.FONT_HERSHEY_SIMPLEX\n",
    "org =(70,200)\n",
    "fontScale = 1\n",
    "color = (255,255,255)\n",
    "thickness = 4\n",
    "image = cv2.putText(img,\"Chalpran\",org,font,fontScale,color,thickness,cv2.LINE_AA)\n",
    "cv2.imshow(\"Text_Image\",image)\n",
    "cv2.waitKey(0)\n",
    "cv2.destroyAllWindows()"
   ]
  },
  {
   "cell_type": "code",
   "execution_count": 37,
   "metadata": {},
   "outputs": [],
   "source": [
    "import numpy as np\n",
    "width = 400\n",
    "height = 300\n",
    "\n",
    "img = np.zeros((height, width, 3), np.uint8) \n",
    " \n",
    "p1 = (100, 200) \n",
    "p2 = (50, 50) \n",
    "p3 = (300, 100) \n",
    "\n",
    "cv2.line(img, p1, p2, (255, 0, 0), 3) \n",
    "cv2.line(img, p2, p3, (255, 0, 0), 3) \n",
    "cv2.line(img, p1, p3, (255, 0, 0), 3) \n",
    "\n",
    "centroid = ((p1[0]+p2[0]+p3[0])//3, (p1[1]+p2[1]+p3[1])//3) \n",
    "cv2.circle(img, centroid, 4, (0, 255, 0)) \n",
    "\n",
    "cv2.imshow(\"image\", img) \n",
    "cv2.waitKey(0) \n",
    "cv2.destroyAllWindows()"
   ]
  },
  {
   "cell_type": "code",
   "execution_count": null,
   "metadata": {},
   "outputs": [],
   "source": []
  }
 ],
 "metadata": {
  "kernelspec": {
   "display_name": "Python 3",
   "language": "python",
   "name": "python3"
  },
  "language_info": {
   "codemirror_mode": {
    "name": "ipython",
    "version": 3
   },
   "file_extension": ".py",
   "mimetype": "text/x-python",
   "name": "python",
   "nbconvert_exporter": "python",
   "pygments_lexer": "ipython3",
   "version": "3.9.0"
  }
 },
 "nbformat": 4,
 "nbformat_minor": 2
}
